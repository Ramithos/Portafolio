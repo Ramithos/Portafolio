{
 "cells": [
  {
   "cell_type": "markdown",
   "metadata": {},
   "source": [
    "# Ciencia de Datos en Multinacional de Supermercados\n",
    "### Maximum likelihood estimation\n",
    "### Pablo Alberto Ramos Roldan\n",
    "\n",
    "Se nos otorga un conjunto de datos donde encontramos los elementos “sales” y “ratings”, con el cual podremos atisbar el comportamiento de un segmento de población para considerar establecer un mercado en un cierto lugar. Para ello, utilizaremos el método de MLE(Maximum likelihood estimation) y ajustaremos parámetros como gastos, mantenimiento, empleados etc, para saber qué comportamiento de una población se necesita para que el mercado sea viable. \n",
    "\n",
    "Comenzamos con las herramientas que se van a utilizar para realizar el análisis. "
   ]
  },
  {
   "cell_type": "code",
   "execution_count": 1,
   "metadata": {},
   "outputs": [
    {
     "name": "stdout",
     "output_type": "stream",
     "text": [
      "Librerias listas.\n"
     ]
    }
   ],
   "source": [
    "import matplotlib.pyplot as plt\n",
    "import numpy as np\n",
    "import pandas as pd\n",
    "from scipy.stats import beta\n",
    "from scipy.stats import norm\n",
    "from scipy.optimize import fsolve\n",
    "\n",
    "print(\"Librerias listas.\")"
   ]
  },
  {
   "cell_type": "markdown",
   "metadata": {},
   "source": [
    "Una vez importados y leídos los datos, nos aseguramos de arreglarlos y convertirlos al valor que vamos a usar(pesos). Posteriormente se calcula el valor máximo y mínimo de ventas para ser normalizado. Normaliza los datos de ventas a un rango entre 0 y 1 usando la fórmula de normalización (valor - mínimo) / (máximo - mínimo). Esto se hace para ajustar los datos y facilitar el análisis estadístico posterior y obtener los valores de alpha y beta que describen la distribución. "
   ]
  },
  {
   "cell_type": "code",
   "execution_count": 26,
   "metadata": {},
   "outputs": [
    {
     "name": "stdout",
     "output_type": "stream",
     "text": [
      "      Sales  Rating\n",
      "0  548.9715     9.1\n",
      "1   80.2200     9.6\n",
      "2  340.5255     7.4\n",
      "3  489.0480     8.4\n",
      "4  634.3785     5.3\n",
      "1.034337826112367 2.9124357466069815\n"
     ]
    }
   ],
   "source": [
    "df = pd.read_csv(\"SuperMarketData.csv\")\n",
    "# Primeras 5 lineas del conjunto de datos.\n",
    "print(df.head())\n",
    "\n",
    "sales = np.array(df[\"Sales\"]) * 19.88\n",
    "\n",
    "max_sales = max(sales)\n",
    "min_sales = min(sales)\n",
    "sales_norm = (1 / (max_sales - min_sales)) * (sales - min_sales)\n",
    "a, b, _, _ = beta.fit(sales)\n",
    "\n",
    "print(a, b)"
   ]
  },
  {
   "cell_type": "markdown",
   "metadata": {},
   "source": [
    "El siguiente paso es calcular los parámetros de la distribución como la media y varianza normalizadas para analizar la distribución ajustada y entender la forma en que se distribuyen las ventas."
   ]
  },
  {
   "cell_type": "code",
   "execution_count": 27,
   "metadata": {},
   "outputs": [
    {
     "name": "stdout",
     "output_type": "stream",
     "text": [
      "MU:5588.845889019187 Sigma:4056.3949757404985\n"
     ]
    }
   ],
   "source": [
    "mu_norm = a / (a + b)\n",
    "var_norm = (a * b) / ((a + b) ** 2 * (a + b + 1))\n",
    "desv_norm = np.sqrt(var_norm)\n",
    "mu = mu_norm * (max_sales - min_sales) + min_sales\n",
    "var = (max_sales - min_sales) ** 2 * var_norm\n",
    "sigma = np.sqrt(var)\n",
    "print(f\"MU:{mu}\", f\"Sigma:{sigma}\")"
   ]
  },
  {
   "cell_type": "markdown",
   "metadata": {},
   "source": [
    "Ahora tomamos en cuenta cuales van a ser los gastos que se tienen que cubrir como salarios, nóminas, días trabajados, luz, etc. De igual manera, incorporamos el objetivo al que queremos llegar que es 1.5 millones de pesos. "
   ]
  },
  {
   "cell_type": "code",
   "execution_count": 31,
   "metadata": {},
   "outputs": [
    {
     "name": "stdout",
     "output_type": "stream",
     "text": [
      "Gastos Totales: 7792399.999999999 \n",
      "Ingreso: 9292400.0\n"
     ]
    }
   ],
   "source": [
    "fact = 1.15\n",
    "\n",
    "sal_cajeros = 300\n",
    "num_cajeros = 30\n",
    "dias_t = 24\n",
    "tot_sal_caj = sal_cajeros * num_cajeros * dias_t * fact\n",
    "\n",
    "sal_conserjes = 5000\n",
    "num_conserjes = 20\n",
    "tot_sal_conserjes = sal_conserjes * num_conserjes * fact\n",
    "\n",
    "gerente = 100000\n",
    "\n",
    "sub_gerentes = 45000\n",
    "num_subgerentes = 4\n",
    "tot_sal_sub = sub_gerentes * num_subgerentes\n",
    "\n",
    "sal_almacenista = 300\n",
    "num_almacenista = 40\n",
    "tot_sal_alm = sal_almacenista * num_almacenista * dias_t * fact\n",
    "\n",
    "g_pasillo = 300\n",
    "num_pasillos = 40\n",
    "tot_pasillo = g_pasillo * num_pasillos * fact\n",
    "\n",
    "nomina_tot = tot_sal_caj + tot_sal_conserjes + tot_sal_sub + gerente + tot_sal_sub + tot_sal_alm + tot_pasillo\n",
    "\n",
    "\n",
    "gasto_luz = 120 * 2000 * 12 * 2.3\n",
    "\n",
    "gastos_tot = gasto_luz + nomina_tot\n",
    "ingreso = gastos_tot + 1500000\n",
    "\n",
    "print(f\"Gastos Totales: {gastos_tot} \\nIngreso: {ingreso}\")"
   ]
  },
  {
   "cell_type": "markdown",
   "metadata": {},
   "source": [
    "Ahora definimos una función que modela una ecuación basada en la estimación de ingresos del supermercado y utiliza la distribución normal para calcular un valor crítico (Z) que representa el percentil 99%. Establecemos un valor entrenado para que sea el punto de partida de la función “fsolve” para posteriormente encontrar el valor de N que hace que la función “equation” sea cero, lo cual corresponde al número estimado de visitantes necesarios para alcanzar el ingreso deseado. Los pasos finales son calcular la población objetivo que tiene que visitar el supermercado y su porcentaje. Por último, esto nos permitirá  evaluar la viabilidad de establecer el supermercado en la ubicación analizada."
   ]
  },
  {
   "cell_type": "code",
   "execution_count": 32,
   "metadata": {},
   "outputs": [
    {
     "name": "stdout",
     "output_type": "stream",
     "text": [
      "Valor entrenado: 1662.668855882653\n",
      "Ventas estimadas: 1595.2308788796722\n",
      "Porcentaje de la población que debe visitar el supermercado: 0.009970192992997952\n"
     ]
    }
   ],
   "source": [
    "def equation(N):\n",
    "    Z = norm.ppf(0.99)\n",
    "    return (mu * N + Z * sigma * np.sqrt(N)) ** 2 - ingreso ** 2\n",
    "\n",
    "valor_entrenado = ingreso / mu\n",
    "print(\"Valor entrenado:\", valor_entrenado)\n",
    "\n",
    "N = fsolve(equation, valor_entrenado)\n",
    "print(\"Ventas estimadas:\", N[0])\n",
    "\n",
    "poblacion = N / 4\n",
    "porcentaje_poblacion = poblacion / 40000\n",
    "print(f\"Porcentaje de la población que debe visitar el supermercado: {porcentaje_poblacion[0]}\")"
   ]
  },
  {
   "cell_type": "markdown",
   "metadata": {},
   "source": [
    "El siguiente paso es analizar los ratings y observar qué distribución se modela de cada una de las ventas proporcionadas por los clientes. De igual manera buscaremos cuál es la probabilidad de que obtengamos un rating de 8.5 de abrir un supermercado. \n"
   ]
  },
  {
   "cell_type": "code",
   "execution_count": 33,
   "metadata": {},
   "outputs": [
    {
     "data": {
      "image/png": "[encoded data removed]",
      "text/plain": [
       "<Figure size 640x480 with 1 Axes>"
      ]
     },
     "metadata": {},
     "output_type": "display_data"
    }
   ],
   "source": [
    "ratings = np.array(df['Rating'])\n",
    "n, bins, patches = plt.hist(ratings, edgecolor=\"black\")\n",
    "for num in bins:\n",
    "  plt.text(num, 1, round(num, 2), ha='center', color='red')"
   ]
  },
  {
   "cell_type": "markdown",
   "metadata": {},
   "source": [
    "Observamos que la distribución no tiene una tendencia favorable hacia ninguno de los valores de ratings, ya que se tiene una cantidad muy similar de clientes en cada uno de los valores del 4 al 10. Esto nos dice que el servicio es inconsistente al punto que nunca se tiene un nivel bueno constante o ningún nivel malo constante."
   ]
  },
  {
   "cell_type": "markdown",
   "metadata": {},
   "source": [
    "Para calcular la probabilidad de obtener un rating de 8.5 seguimos un camino similar al del cálculo sobre poner un supermercado o no. empezamos con normalizar los valores de calificación entre 0 y 1, y se ajusta una distribución beta a estos datos para analizar cómo se distribuyen las calificaciones. Posteriormente se calcula la media y desviación estándar en la escala original para facilitar su observación. "
   ]
  },
  {
   "cell_type": "code",
   "execution_count": 34,
   "metadata": {},
   "outputs": [
    {
     "name": "stdout",
     "output_type": "stream",
     "text": [
      "Valor de MU: 6.839149802099823\n",
      "Valor de Sigma: 1.7634306205368828\n"
     ]
    },
    {
     "data": {
      "image/png": "[encoded data removed]",
      "text/plain": [
       "<Figure size 640x480 with 1 Axes>"
      ]
     },
     "metadata": {},
     "output_type": "display_data"
    }
   ],
   "source": [
    "max_ratings = max(ratings)\n",
    "min_ratings = min(ratings)\n",
    "ratings_norm = (1/(max_ratings - min_ratings)) * (ratings - min_ratings)\n",
    "a,b,_,_=beta.fit(ratings)\n",
    "mu_norm = a / (a + b)\n",
    "var_norm = (a * b) / ((a + b) ** 2 * (a+b+1))\n",
    "desv_norm = np.sqrt(var_norm)\n",
    "mu = mu_norm * (max_ratings - min_ratings) + min_ratings\n",
    "var = (max_ratings - min_ratings) ** 2 * var_norm\n",
    "sigma = np.sqrt(var)\n",
    "\n",
    "print(f\"Valor de MU: {mu}\\nValor de Sigma: {sigma}\")\n",
    "\n",
    "n, bins, patches = plt.hist(ratings_norm, bins=30, density=True, alpha=0.75, edgecolor=\"black\", label='Histograma de Ratings Normalizados')\n",
    "x = np.linspace(0, 1, 100)\n",
    "y = beta.pdf(x, a, b)\n",
    "plt.plot(x, y, 'r-', label='Distribución Beta ajustada')\n",
    "plt.grid(True)\n",
    "plt.show()"
   ]
  },
  {
   "cell_type": "markdown",
   "metadata": {},
   "source": [
    "Lo que nos dice esta gráfica es un histograma de los ratings normalizados junto con la distribución beta ajustada para comparar visualmente los datos. \n"
   ]
  },
  {
   "cell_type": "markdown",
   "metadata": {},
   "source": [
    "Por ultimo, se calcula la probabilidad de que la media de los ratings sea al menos 8.5, lo cual ayuda a evaluar la satisfacción esperada de los clientes."
   ]
  },
  {
   "cell_type": "code",
   "execution_count": 35,
   "metadata": {},
   "outputs": [
    {
     "name": "stdout",
     "output_type": "stream",
     "text": [
      "Probabilidad de al menos obtener un rating de 8.5: 0.17314008309421802\n"
     ]
    }
   ],
   "source": [
    "prob = 1 - norm.cdf(8.5, mu, sigma)\n",
    "print(f\"Probabilidad de al menos obtener un rating de 8.5: {prob}\") "
   ]
  },
  {
   "cell_type": "markdown",
   "metadata": {},
   "source": [
    "Notemos que la probabilidad es de 17%, lo cual es una probabilidad muy baja considerando que tenemos que cuidar la lealtad de los clientes si hay competencia en donde se posicionaría el supermercado. Esto es de suma importancia ya que se busca que nuestro supermercado resalte sobre los demás y requiere de cambios drásticos en el área de atención al cliente. "
   ]
  }
 ],
 "metadata": {
  "kernelspec": {
   "display_name": "env",
   "language": "python",
   "name": "python3"
  },
  "language_info": {
   "codemirror_mode": {
    "name": "ipython",
    "version": 3
   },
   "file_extension": ".py",
   "mimetype": "text/x-python",
   "name": "python",
   "nbconvert_exporter": "python",
   "pygments_lexer": "ipython3",
   "version": "3.13.0"
  }
 },
 "nbformat": 4,
 "nbformat_minor": 2
}
